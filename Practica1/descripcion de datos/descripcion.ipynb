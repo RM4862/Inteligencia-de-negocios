{
 "cells": [
  {
   "cell_type": "code",
   "execution_count": 3,
   "id": "0d3fd360",
   "metadata": {},
   "outputs": [],
   "source": [
    "import pandas as pd\n"
   ]
  },
  {
   "cell_type": "code",
   "execution_count": null,
   "id": "0505b08b",
   "metadata": {},
   "outputs": [],
   "source": [
    "#Cargar el archivo de excel \n",
    "df=pd.read_excel(\"SNUHneoadj370_ rechecked.xls\")\n",
    "df.to_csv(\"SNUHneoadj370_ rechecked.csv\")\n"
   ]
  },
  {
   "cell_type": "code",
   "execution_count": 12,
   "id": "4cc04f9c",
   "metadata": {},
   "outputs": [
    {
     "data": {
      "text/plain": [
       "Unnamed: 0       int64\n",
       "Pt.ID           object\n",
       "sex             object\n",
       "age            float64\n",
       "age35            int64\n",
       "                ...   \n",
       "tmp5             int64\n",
       "yyfu             int64\n",
       "mmfu             int64\n",
       "ddfu             int64\n",
       "FU.duration    float64\n",
       "Length: 77, dtype: object"
      ]
     },
     "execution_count": 12,
     "metadata": {},
     "output_type": "execute_result"
    }
   ],
   "source": [
    "dataset =pd.read_csv ('SNUHneoadj370_ rechecked.csv', delimiter=(','))\n",
    "dataset.dtypes"
   ]
  }
 ],
 "metadata": {
  "kernelspec": {
   "display_name": "Python (pandas_workshop)",
   "language": "python",
   "name": "pandas_workshop"
  },
  "language_info": {
   "codemirror_mode": {
    "name": "ipython",
    "version": 3
   },
   "file_extension": ".py",
   "mimetype": "text/x-python",
   "name": "python",
   "nbconvert_exporter": "python",
   "pygments_lexer": "ipython3",
   "version": "3.13.7"
  }
 },
 "nbformat": 4,
 "nbformat_minor": 5
}
